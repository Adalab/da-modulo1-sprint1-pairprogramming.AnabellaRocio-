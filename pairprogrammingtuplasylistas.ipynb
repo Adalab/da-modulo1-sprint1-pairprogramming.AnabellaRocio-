{
 "cells": [
  {
   "cell_type": "markdown",
   "metadata": {},
   "source": [
    "EJERCICIOS DE LISTAS"
   ]
  },
  {
   "cell_type": "markdown",
   "metadata": {},
   "source": [
    "1. Duplicar elementos de una lista\n",
    "    Descripción: Dada una lista de números, duplica cada elemento en la lista. "
   ]
  },
  {
   "cell_type": "code",
   "execution_count": 125,
   "metadata": {},
   "outputs": [
    {
     "name": "stdout",
     "output_type": "stream",
     "text": [
      "[1, 2, 3, 4, 5, 6, 1, 2, 3, 4, 5, 6]\n"
     ]
    }
   ],
   "source": [
    "lista1 = [1,2,3,4,5,6]\n",
    "lista1.extend(lista1)\n",
    "print(lista1)"
   ]
  },
  {
   "cell_type": "markdown",
   "metadata": {},
   "source": [
    "2. Combinar dos listas\n",
    "Descripción: Dadas dos listas, crea una nueva lista que contenga todos los elementos de ambas listas."
   ]
  },
  {
   "cell_type": "code",
   "execution_count": 126,
   "metadata": {},
   "outputs": [
    {
     "name": "stdout",
     "output_type": "stream",
     "text": [
      "[1, 2, 3, 4, 5, 6, 7, 1, 9, 10, 11]\n"
     ]
    }
   ],
   "source": [
    "lista1 = [1,2,3,4,5,6]\n",
    "lista2 = [7, 1, 9, 10, 11]\n",
    "lista3 = lista1 + lista2\n",
    "print(lista3)"
   ]
  },
  {
   "cell_type": "markdown",
   "metadata": {},
   "source": [
    "3. Calcular la suma de una lista de números\n",
    "Descripción: Dada una lista de números, calcula la suma de todos los elementos"
   ]
  },
  {
   "cell_type": "code",
   "execution_count": 127,
   "metadata": {},
   "outputs": [
    {
     "data": {
      "text/plain": [
       "21"
      ]
     },
     "execution_count": 127,
     "metadata": {},
     "output_type": "execute_result"
    }
   ],
   "source": [
    "sum(lista1)"
   ]
  },
  {
   "cell_type": "markdown",
   "metadata": {},
   "source": [
    "4. Encontrar el valor máximo en una lista\n",
    "Descripción: Dada una lista de números, encuentra el valor máximo."
   ]
  },
  {
   "cell_type": "code",
   "execution_count": 128,
   "metadata": {},
   "outputs": [
    {
     "data": {
      "text/plain": [
       "6"
      ]
     },
     "execution_count": 128,
     "metadata": {},
     "output_type": "execute_result"
    }
   ],
   "source": [
    "max(lista1)"
   ]
  },
  {
   "cell_type": "markdown",
   "metadata": {},
   "source": [
    "5. Calcular la longitud de una lista\n",
    "Descripción: Dada una lista, calcula la cantidad de elementos que contiene."
   ]
  },
  {
   "cell_type": "code",
   "execution_count": 129,
   "metadata": {},
   "outputs": [
    {
     "data": {
      "text/plain": [
       "6"
      ]
     },
     "execution_count": 129,
     "metadata": {},
     "output_type": "execute_result"
    }
   ],
   "source": [
    "len(lista1)"
   ]
  },
  {
   "cell_type": "markdown",
   "metadata": {},
   "source": [
    "6. Encontrar el índice de un elemento en una lista\n",
    "Descripción: Dada una lista y un valor objetivo, encuentra el índice del primer elemento que coincida con el valor objetivo."
   ]
  },
  {
   "cell_type": "code",
   "execution_count": 130,
   "metadata": {},
   "outputs": [
    {
     "data": {
      "text/plain": [
       "4"
      ]
     },
     "execution_count": 130,
     "metadata": {},
     "output_type": "execute_result"
    }
   ],
   "source": [
    "lista1.index(5)"
   ]
  },
  {
   "cell_type": "markdown",
   "metadata": {},
   "source": [
    "7. Contar ocurrencias de un elemento en una lista\n",
    "Descripción: Dada una lista y un valor objetivo, cuenta cuántas veces aparece el valor objetivo en la lista."
   ]
  },
  {
   "cell_type": "code",
   "execution_count": 131,
   "metadata": {},
   "outputs": [
    {
     "data": {
      "text/plain": [
       "2"
      ]
     },
     "execution_count": 131,
     "metadata": {},
     "output_type": "execute_result"
    }
   ],
   "source": [
    "lista3.count(1)"
   ]
  },
  {
   "cell_type": "markdown",
   "metadata": {},
   "source": [
    "8. Obtener una sublista de una lista\n",
    "Descripción: Dada una lista, crea una nueva lista que contenga los elementos desde el índice 2 hasta el índice 5 (sin incluirlo)."
   ]
  },
  {
   "cell_type": "code",
   "execution_count": 132,
   "metadata": {},
   "outputs": [
    {
     "name": "stdout",
     "output_type": "stream",
     "text": [
      "[1, 2, 3, 4, 5, 6]\n"
     ]
    }
   ],
   "source": [
    "print(lista1)"
   ]
  },
  {
   "cell_type": "code",
   "execution_count": 133,
   "metadata": {},
   "outputs": [
    {
     "name": "stdout",
     "output_type": "stream",
     "text": [
      "[3, 4, 5]\n"
     ]
    }
   ],
   "source": [
    "lista_nueva = lista1[2:5]\n",
    "print (lista_nueva)"
   ]
  },
  {
   "cell_type": "markdown",
   "metadata": {},
   "source": [
    "9. Obtener el último elemento de una lista\n",
    "Descripción: Dada una lista, obtén el último elemento"
   ]
  },
  {
   "cell_type": "code",
   "execution_count": 134,
   "metadata": {},
   "outputs": [
    {
     "data": {
      "text/plain": [
       "6"
      ]
     },
     "execution_count": 134,
     "metadata": {},
     "output_type": "execute_result"
    }
   ],
   "source": [
    "lista1[-1]"
   ]
  },
  {
   "cell_type": "markdown",
   "metadata": {},
   "source": [
    "10. Obtener el último elemento de una lista\n",
    "Descripción: Dada una lista, obtén el último elemento."
   ]
  },
  {
   "cell_type": "code",
   "execution_count": 135,
   "metadata": {},
   "outputs": [
    {
     "data": {
      "text/plain": [
       "6"
      ]
     },
     "execution_count": 135,
     "metadata": {},
     "output_type": "execute_result"
    }
   ],
   "source": [
    "lista1[-1]"
   ]
  },
  {
   "cell_type": "markdown",
   "metadata": {},
   "source": [
    "11. Obtener una sublista de una lista\n",
    "Descripción: Dada una lista, obtén una sublista que contenga los elementos desde el índice 1 hasta el índice 3 (sin incluirlo)."
   ]
  },
  {
   "cell_type": "code",
   "execution_count": 136,
   "metadata": {},
   "outputs": [
    {
     "name": "stdout",
     "output_type": "stream",
     "text": [
      "[1, 2, 3, 4, 5, 6]\n",
      "[2, 3]\n"
     ]
    }
   ],
   "source": [
    "print(lista1)\n",
    "lista_sublista = lista1[1:3]\n",
    "print(lista_sublista)"
   ]
  },
  {
   "cell_type": "markdown",
   "metadata": {},
   "source": [
    "12. Reemplazar un elemento en una lista\n",
    "Descripción: Dada una lista, reemplaza el segundo elemento con un nuevo valor."
   ]
  },
  {
   "cell_type": "code",
   "execution_count": 137,
   "metadata": {},
   "outputs": [
    {
     "name": "stdout",
     "output_type": "stream",
     "text": [
      "[1, 2, 3, 4, 5, 6]\n"
     ]
    }
   ],
   "source": [
    "print(lista1)"
   ]
  },
  {
   "cell_type": "code",
   "execution_count": 138,
   "metadata": {},
   "outputs": [
    {
     "name": "stdout",
     "output_type": "stream",
     "text": [
      "[1, 10, 3, 4, 5, 6]\n"
     ]
    }
   ],
   "source": [
    "lista1[1] = 10\n",
    "print(lista1)"
   ]
  },
  {
   "cell_type": "markdown",
   "metadata": {},
   "source": [
    "13. Obtener una lista inversa\n",
    "Descripción: Dada una lista, obtén una nueva lista que contenga los elementos en orden inverso."
   ]
  },
  {
   "cell_type": "code",
   "execution_count": 139,
   "metadata": {},
   "outputs": [
    {
     "data": {
      "text/plain": [
       "[6, 5, 4, 3, 10, 1]"
      ]
     },
     "execution_count": 139,
     "metadata": {},
     "output_type": "execute_result"
    }
   ],
   "source": [
    "lista1.reverse()\n",
    "lista1\n"
   ]
  },
  {
   "cell_type": "markdown",
   "metadata": {},
   "source": [
    "14. Ordenar una lista en orden ascendente\n",
    "Descripción: Dada una lista de números, ordénala en orden ascendente."
   ]
  },
  {
   "cell_type": "code",
   "execution_count": 140,
   "metadata": {},
   "outputs": [
    {
     "data": {
      "text/plain": [
       "[1, 3, 4, 5, 6, 10]"
      ]
     },
     "execution_count": 140,
     "metadata": {},
     "output_type": "execute_result"
    }
   ],
   "source": [
    "lista1.sort()\n",
    "lista1"
   ]
  },
  {
   "cell_type": "markdown",
   "metadata": {},
   "source": [
    "15. Obtener elementos pares de una lista\n",
    "Descripción: Dada una lista, obtén una nueva lista que contenga solo los elementos en posiciones pares."
   ]
  },
  {
   "cell_type": "code",
   "execution_count": 141,
   "metadata": {},
   "outputs": [
    {
     "name": "stdout",
     "output_type": "stream",
     "text": [
      "[1, 4, 6]\n"
     ]
    }
   ],
   "source": [
    "print(lista1[0:-1:2])\n"
   ]
  },
  {
   "cell_type": "markdown",
   "metadata": {},
   "source": [
    "[x, a, f, g, m, y]\n",
    "¿?¿?¿?posición 1 es a\n",
    "posicion 0 es la x\n",
    "posición 2 f\n",
    "posición 4 m\n",
    "...\n",
    "[x,f,m]"
   ]
  },
  {
   "cell_type": "markdown",
   "metadata": {},
   "source": [
    "16. Obtener una sublista saltando elementos\n",
    "Descripción: Dada una lista, obtén una sublista que contenga los elementos saltando de 3 en 3."
   ]
  },
  {
   "cell_type": "code",
   "execution_count": 142,
   "metadata": {},
   "outputs": [
    {
     "name": "stdout",
     "output_type": "stream",
     "text": [
      "[7, 1, 9, 10, 11]\n"
     ]
    }
   ],
   "source": [
    "print(lista2)"
   ]
  },
  {
   "cell_type": "code",
   "execution_count": 143,
   "metadata": {},
   "outputs": [
    {
     "name": "stdout",
     "output_type": "stream",
     "text": [
      "[7, 10]\n"
     ]
    }
   ],
   "source": [
    "print(lista2[0:-1:3])"
   ]
  },
  {
   "cell_type": "markdown",
   "metadata": {},
   "source": [
    "17. Encontrar el segundo valor máximo en una lista\n",
    "Descripción: Dada una lista de números, encuentra el segundo valor máximo."
   ]
  },
  {
   "cell_type": "code",
   "execution_count": 144,
   "metadata": {},
   "outputs": [
    {
     "name": "stdout",
     "output_type": "stream",
     "text": [
      "[7, 1, 9, 10, 11]\n"
     ]
    }
   ],
   "source": [
    "print(lista2)"
   ]
  },
  {
   "cell_type": "code",
   "execution_count": 145,
   "metadata": {},
   "outputs": [
    {
     "name": "stdout",
     "output_type": "stream",
     "text": [
      "[1, 7, 9, 10, 11]\n"
     ]
    }
   ],
   "source": [
    "lista2.sort()\n",
    "print(lista2)"
   ]
  },
  {
   "cell_type": "code",
   "execution_count": 146,
   "metadata": {},
   "outputs": [
    {
     "name": "stdout",
     "output_type": "stream",
     "text": [
      "10\n"
     ]
    }
   ],
   "source": [
    "print(lista2[-2])#¿_?existe otra función más directa"
   ]
  },
  {
   "cell_type": "markdown",
   "metadata": {},
   "source": [
    "18. Teórico. Debereis contestar la pregunta en una celda de markdown.\n",
    "Descripción: ¿Qué diferencia existe entre el .sort() y el sorted()"
   ]
  },
  {
   "attachments": {
    "image.png": {
     "image/png": "[encoded data removed]"
    }
   },
   "cell_type": "markdown",
   "metadata": {},
   "source": [
    ".sort() sobreescribe la lista original y la ordena. No muestra (habría que hacer print). A la variable se le aplica el .sort\n",
    "\n",
    "sorted() ordena pero no sobreescribe: sólo muestra. Si queremos modificar la lista original, necesitamos crear una variable nueva. La variable debe de ir entre los paréntesis del método.\n",
    "\n",
    "\n",
    "![image.png](attachment:image.png)"
   ]
  },
  {
   "cell_type": "markdown",
   "metadata": {},
   "source": [
    "19. Agregar elementos a una lista utilizando append y extend\n",
    "\n",
    "Descripción: Dada una lista inicial, agrega nuevos elementos utilizando tanto append como extend y observa las diferencias en el resultado final. El elemento que deberéis usar para añadir a la lista original tiene que ser una lista."
   ]
  },
  {
   "cell_type": "code",
   "execution_count": 147,
   "metadata": {},
   "outputs": [
    {
     "name": "stdout",
     "output_type": "stream",
     "text": [
      "el resultado de añadir una a la otra es ['naranjas', 'peras', 'papel', 'chocolate', 'leche', ['queso', 'vino', 'gominolas']]\n"
     ]
    }
   ],
   "source": [
    "lista_agregar_1 = [\"naranjas\",\"peras\",\"papel\",\"chocolate\",\"leche\"]\n",
    "lista_agregar_2 = [\"queso\",\"vino\",\"gominolas\"]\n",
    "lista_agregar_1.append(lista_agregar_2)\n",
    "print(\"el resultado de añadir una a la otra es\", lista_agregar_1)"
   ]
  },
  {
   "cell_type": "code",
   "execution_count": 149,
   "metadata": {},
   "outputs": [
    {
     "name": "stdout",
     "output_type": "stream",
     "text": [
      "el resultado de extender una con la otra es ['naranjas', 'peras', 'papel', 'chocolate', 'leche', ['queso', 'vino', 'gominolas'], 'queso', 'vino', 'gominolas', 'queso', 'vino', 'gominolas']\n"
     ]
    }
   ],
   "source": [
    "lista_agregar_1.extend(lista_agregar_2)\n",
    "print(\"el resultado de extender una con la otra es\", lista_agregar_1) \n",
    "#cuando usamos el método extend agrega los elementos de una lista como elementos (cada elemento de la lista individualmente), mientras que el append lo añade como una lista."
   ]
  },
  {
   "cell_type": "markdown",
   "metadata": {},
   "source": [
    "20. Insertar un elemento en una posición específica\n",
    "Descripción: Dada una lista, inserta un nuevo elemento en una posición específica determinada por el usuario (debereis usar la función input para preguntar al usuario en que posición quiere insertar el elemento)."
   ]
  },
  {
   "cell_type": "code",
   "execution_count": 153,
   "metadata": {},
   "outputs": [
    {
     "data": {
      "text/plain": [
       "['queso', 'chocolate', 'vino', 'gominolas']"
      ]
     },
     "execution_count": 153,
     "metadata": {},
     "output_type": "execute_result"
    }
   ],
   "source": [
    "elemento = input(\"ingrese un elemento a agregar a su lista de la compra: \")\n",
    "lista_agregar_2.insert(1,elemento)\n",
    "lista_agregar_2\n",
    "#hemos añadadido \"chocolate\" a la lista\n"
   ]
  },
  {
   "cell_type": "markdown",
   "metadata": {},
   "source": [
    "21. Verificar si un elemento está presente en una lista\n",
    "Descripción: Dada una lista, verifica si un elemento específico está presente en ella. Igual que el caso anterior, debereis preguntar al usuario que elemento quiere buscar en la lista. El resultado deberá ser True o False."
   ]
  },
  {
   "cell_type": "code",
   "execution_count": 156,
   "metadata": {},
   "outputs": [
    {
     "data": {
      "text/plain": [
       "True"
      ]
     },
     "execution_count": 156,
     "metadata": {},
     "output_type": "execute_result"
    }
   ],
   "source": [
    "elemento = input(\"ingrese qué elemento quiere verificar: \")\n",
    "elemento in lista_agregar_2\n"
   ]
  },
  {
   "cell_type": "markdown",
   "metadata": {},
   "source": [
    "22. Manipulación de una lista utilizando remove(), pop() y clear()\n",
    "\n",
    "Descripción: Crea una lista inicial, realiza operaciones de eliminación y limpieza utilizando los métodos remove(), pop() y clear(), y observa cómo afectan a la lista."
   ]
  },
  {
   "cell_type": "code",
   "execution_count": 160,
   "metadata": {},
   "outputs": [
    {
     "name": "stdout",
     "output_type": "stream",
     "text": [
      "eliminación con remove\n",
      "['barrer', 'ordenar', 'cocinar', 'fregar']\n",
      "\n",
      "eliminación con pop\n",
      "['barrer', 'cocinar', 'fregar']\n",
      "\n",
      "eliminación con clear\n",
      "[]\n"
     ]
    }
   ],
   "source": [
    "lista_nueva_2 = [\"barrer\",\"fregar\", \"ordenar\", \"cocinar\", \"fregar\"]\n",
    "print(\"eliminación con remove\")\n",
    "lista_nueva_2.remove(\"fregar\")\n",
    "print(lista_nueva_2)\n",
    "print(\"\")\n",
    "print(\"eliminación con pop\")\n",
    "lista_nueva_2.pop(1)\n",
    "print(lista_nueva_2)\n",
    "print(\"\")\n",
    "print(\"eliminación con clear\")\n",
    "lista_nueva_2.clear()\n",
    "print(lista_nueva_2)"
   ]
  },
  {
   "cell_type": "code",
   "execution_count": null,
   "metadata": {},
   "outputs": [],
   "source": []
  },
  {
   "cell_type": "markdown",
   "metadata": {},
   "source": [
    "EJERCICIOS DE TUPLAS"
   ]
  },
  {
   "cell_type": "markdown",
   "metadata": {},
   "source": []
  },
  {
   "cell_type": "markdown",
   "metadata": {},
   "source": [
    "1. Acceder al primer elemento de una tupla\n",
    "\n",
    "Descripción: Dada una tupla, obtén el primer elemento."
   ]
  },
  {
   "cell_type": "code",
   "execution_count": 163,
   "metadata": {},
   "outputs": [
    {
     "name": "stdout",
     "output_type": "stream",
     "text": [
      "el primer elemento de la tupla es: ratón\n"
     ]
    }
   ],
   "source": [
    "tupla_1 = (\"ratón\", \"teclado\", \"ordenador\", \"mesa\", \"silla\" )\n",
    "print(\"el primer elemento de la tupla es:\",tupla_1[0])\n"
   ]
  },
  {
   "cell_type": "markdown",
   "metadata": {},
   "source": [
    "2. Acceder al último elemento de una tupla\n",
    "Descripción: Dada una tupla, obtén el último elemento."
   ]
  },
  {
   "cell_type": "code",
   "execution_count": 164,
   "metadata": {},
   "outputs": [
    {
     "name": "stdout",
     "output_type": "stream",
     "text": [
      "el último elemento de la tupla es: silla\n"
     ]
    }
   ],
   "source": [
    "print(\"el último elemento de la tupla es:\",tupla_1[-1])"
   ]
  },
  {
   "cell_type": "markdown",
   "metadata": {},
   "source": [
    "3. Obtener la longitud de una tupla\n",
    "Descripción: Dada una tupla, obtén la cantidad de elementos que contiene."
   ]
  },
  {
   "cell_type": "code",
   "execution_count": 165,
   "metadata": {},
   "outputs": [
    {
     "name": "stdout",
     "output_type": "stream",
     "text": [
      "la longitud de la tupla es: 5\n"
     ]
    }
   ],
   "source": [
    "print(\"la longitud de la tupla es:\",len(tupla_1))"
   ]
  },
  {
   "cell_type": "markdown",
   "metadata": {},
   "source": [
    "4. Concatenar dos tuplas\n",
    "Descripción: Dadas dos tuplas, crea una nueva tupla que contenga todos los elementos de ambas tuplas."
   ]
  },
  {
   "cell_type": "code",
   "execution_count": 167,
   "metadata": {},
   "outputs": [
    {
     "name": "stdout",
     "output_type": "stream",
     "text": [
      "('ratón', 'teclado', 'ordenador', 'mesa', 'silla', 'ventana', 'puerta', 'fotos')\n"
     ]
    }
   ],
   "source": [
    "tupla_1 = (\"ratón\", \"teclado\", \"ordenador\", \"mesa\", \"silla\" )\n",
    "tupla_2 = (\"ventana\", \"puerta\", \"fotos\")\n",
    "tupla_3 = tupla_1 + tupla_2\n",
    "print(tupla_3)"
   ]
  },
  {
   "cell_type": "markdown",
   "metadata": {},
   "source": [
    "5. Encontrar el índice de un elemento en una tupla\n",
    "\n",
    "Descripción: Dada una tupla y un valor objetivo, encuentra el índice del primer elemento que coincida con el valor objetivo."
   ]
  },
  {
   "cell_type": "code",
   "execution_count": 182,
   "metadata": {},
   "outputs": [
    {
     "data": {
      "text/plain": [
       "2"
      ]
     },
     "execution_count": 182,
     "metadata": {},
     "output_type": "execute_result"
    }
   ],
   "source": [
    "tupla_3\n",
    "valor = \"ordenador\"\n",
    "tupla_3.index(valor)\n",
    "#¿_?"
   ]
  },
  {
   "cell_type": "markdown",
   "metadata": {},
   "source": [
    "6. Contar ocurrencias de un elemento en una tupla\n",
    "\n",
    "Descripción: Dada una tupla y un valor objetivo, cuenta cuántas veces aparece el valor objetivo en la tupla."
   ]
  },
  {
   "cell_type": "code",
   "execution_count": 184,
   "metadata": {},
   "outputs": [
    {
     "data": {
      "text/plain": [
       "3"
      ]
     },
     "execution_count": 184,
     "metadata": {},
     "output_type": "execute_result"
    }
   ],
   "source": [
    "tupla_4 = ('ratón', 'silla', 'teclado', 'ordenador', \"silla\", 'mesa', 'silla', 'ventana', 'puerta', 'fotos')\n",
    "tupla_4.count(\"silla\")\n"
   ]
  },
  {
   "cell_type": "markdown",
   "metadata": {},
   "source": [
    "7. Obtener una subtuple de una tupla\n",
    "\n",
    "Descripción: Dada una tupla, crea una nueva tupla que contenga los elementos desde el índice 1 hasta el índice 3 (sin incluirlo)."
   ]
  },
  {
   "cell_type": "code",
   "execution_count": 190,
   "metadata": {},
   "outputs": [
    {
     "data": {
      "text/plain": [
       "('silla', 'teclado')"
      ]
     },
     "execution_count": 190,
     "metadata": {},
     "output_type": "execute_result"
    }
   ],
   "source": [
    "tupla_4\n",
    "tupla_5 = tupla_4[1:3]\n",
    "tupla_5"
   ]
  },
  {
   "cell_type": "markdown",
   "metadata": {},
   "source": [
    "8. Invertir una tupla\n",
    "\n",
    "Descripción: Dada una tupla, inviértela en orden."
   ]
  },
  {
   "cell_type": "code",
   "execution_count": 13,
   "metadata": {},
   "outputs": [
    {
     "name": "stdout",
     "output_type": "stream",
     "text": [
      "hemos convertido la tupla en lista para poder invertir el orden: ['paula', 'rocio', 'anabella']\n",
      " \n",
      "volvemos a convertir la lista en tupla\n",
      "('paula', 'rocio', 'anabella')\n"
     ]
    }
   ],
   "source": [
    "tupla_6 = (\"anabella\", \"rocio\", \"paula\")\n",
    "lista_nombres = list(tupla_6)\n",
    "lista_nombres.reverse()\n",
    "print(\"hemos convertido la tupla en lista para poder invertir el orden:\", lista_nombres)\n",
    "print(\" \")\n",
    "print(\"volvemos a convertir la lista en tupla\")\n",
    "tupla_nombres = tuple(lista_nombres)\n",
    "print(tupla_nombres)"
   ]
  }
 ],
 "metadata": {
  "kernelspec": {
   "display_name": "Python 3",
   "language": "python",
   "name": "python3"
  },
  "language_info": {
   "codemirror_mode": {
    "name": "ipython",
    "version": 3
   },
   "file_extension": ".py",
   "mimetype": "text/x-python",
   "name": "python",
   "nbconvert_exporter": "python",
   "pygments_lexer": "ipython3",
   "version": "3.9.7"
  }
 },
 "nbformat": 4,
 "nbformat_minor": 2
}
