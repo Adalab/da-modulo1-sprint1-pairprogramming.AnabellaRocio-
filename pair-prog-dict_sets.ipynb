{
 "cells": [
  {
   "cell_type": "markdown",
   "metadata": {},
   "source": [
    "## Ejercicios diccionarios\n",
    "1. Crear un diccionario vacío\n",
    "- Descripción: Crea un diccionario vacío sin ningún par clave-valor.\n",
    "\n",
    "2. Crear un diccionario con elementos\n",
    "- Descripción: Crea un diccionario con pares clave-valor predefinidos. Definir el diccionario con las claves y valores que querais. NOTA El diccionario debe tener al menos 5 pares de clave:valor."
   ]
  },
  {
   "cell_type": "code",
   "execution_count": 3,
   "metadata": {},
   "outputs": [
    {
     "name": "stdout",
     "output_type": "stream",
     "text": [
      "Imprimos diccionario vacio {}\n",
      "{'pais': 'España', 'nombre': 'Rocio', 'ciudad': 'Leon', 'edad': 45, 'hermana': 'Jacinta'}\n"
     ]
    }
   ],
   "source": [
    "diccionario_vacio= {}\n",
    "print('Imprimos diccionario vacio', diccionario_vacio)\n",
    "\n",
    "diccionario_1= {'pais': 'España',\n",
    "                'nombre': 'Rocio',\n",
    "                 'ciudad': 'Leon',\n",
    "                 'edad': 45, \n",
    "                  'hermana': 'Jacinta'}\n",
    "print(diccionario_1)\n",
    "\n"
   ]
  },
  {
   "cell_type": "markdown",
   "metadata": {},
   "source": [
    "3. Acceder al valor de una clave en un diccionario\n",
    "- Descripción: Usando el diccionario creado en el paso anterior, obtén el valor correspondiente a una clave específica que indique el usuario (debereis usar la función input() para preguntar al usuario)."
   ]
  },
  {
   "cell_type": "code",
   "execution_count": 5,
   "metadata": {},
   "outputs": [
    {
     "name": "stdout",
     "output_type": "stream",
     "text": [
      "la clave seleccionada es Leon\n"
     ]
    }
   ],
   "source": [
    "clave = input( 'Ingrese la clave que quiere obtener: ')\n",
    "\n",
    "diccionario_1.get(clave)\n",
    "\n",
    "print('la clave seleccionada es',diccionario_1.get(clave))"
   ]
  },
  {
   "cell_type": "markdown",
   "metadata": {},
   "source": [
    "4. Agregar un nuevo par clave-valor a un diccionario\n",
    "- Descripción: Usando el diccionario creado en el ejercicio 2, agrega un nuevo par clave-valor."
   ]
  },
  {
   "cell_type": "code",
   "execution_count": 8,
   "metadata": {},
   "outputs": [
    {
     "name": "stdout",
     "output_type": "stream",
     "text": [
      "{'pais': 'España', 'nombre': 'Rocio', 'ciudad': 'Leon', 'edad': 45, 'hermana': 'Jacinta', 'padre': 'Pedro'}\n"
     ]
    }
   ],
   "source": [
    "diccionario_1['padre']= 'Pedro'\n",
    "\n",
    "print(diccionario_1)\n"
   ]
  },
  {
   "cell_type": "markdown",
   "metadata": {},
   "source": [
    "5. Actualizar el valor de una clave en un diccionario\n",
    "- Descripción: Usando el diccionario creado en el ejercicio 2, actualiza el valor correspondiente a una clave existente. Ejemplo:\n",
    "- dado el siguiente diccionario\n",
    "{'nombre': 'Ana', 'edad': 25, 'ciudad': 'Madrid', 'hijos': 1}\n",
    "- el ouptut esperado es: (ha cambiado el valor de la clave edad)\n",
    "{'nombre': 'Ana', 'edad': 40, 'ciudad': 'Madrid', 'hijos': 1}"
   ]
  },
  {
   "cell_type": "code",
   "execution_count": 12,
   "metadata": {},
   "outputs": [
    {
     "name": "stdout",
     "output_type": "stream",
     "text": [
      "{'pais': 'España', 'nombre': 'Rocio', 'ciudad': 'Leon', 'edad': 45, 'hermana': 'Jacinta', 'padre': 'Pedro'}\n",
      "{'pais': 'España', 'nombre': 'Rocio', 'ciudad': 'Leon', 'edad': 18, 'hermana': 'Jacinta', 'padre': 'Pedro'}\n"
     ]
    }
   ],
   "source": [
    "print(diccionario_1)\n",
    "\n",
    "diccionario_1['edad']= 18\n",
    "\n",
    "print(diccionario_1)"
   ]
  },
  {
   "cell_type": "markdown",
   "metadata": {},
   "source": [
    "6. Eliminar un par clave-valor de un diccionario\n",
    "- Descripción: Usando el diccionario creado en el ejercicio 2, elimina un par clave-valor específico que indique el usuario (debereis usar la función input() para preguntar al usuario)."
   ]
  },
  {
   "cell_type": "code",
   "execution_count": 14,
   "metadata": {},
   "outputs": [
    {
     "name": "stdout",
     "output_type": "stream",
     "text": [
      "{'pais': 'España', 'nombre': 'Rocio', 'ciudad': 'Leon', 'hermana': 'Jacinta', 'padre': 'Pedro'}\n",
      "Imprimimos diccionario sin la clave-valor edad:  {'pais': 'España', 'nombre': 'Rocio', 'ciudad': 'Leon', 'hermana': 'Jacinta'}\n"
     ]
    }
   ],
   "source": [
    "print(diccionario_1)\n",
    "\n",
    "elemento_eliminar= input('Ingrese el par que quiera eliminar: ')\n",
    "diccionario_1.pop(elemento_eliminar)\n",
    "\n",
    "print('Imprimimos diccionario sin la clave-valor edad: ',diccionario_1)"
   ]
  },
  {
   "cell_type": "markdown",
   "metadata": {},
   "source": [
    "7. Verificar si una clave está presente en un diccionario\n",
    "- Descripción: Usando el diccionario creado en el ejercicio 2, verifica si una clave específica está presente en él. La clave a buscar debe ser pasada por el usuario, debereis usar un input()."
   ]
  },
  {
   "cell_type": "code",
   "execution_count": 15,
   "metadata": {},
   "outputs": [
    {
     "name": "stdout",
     "output_type": "stream",
     "text": [
      "Esta la clave que deso buscar? True\n"
     ]
    }
   ],
   "source": [
    "clave_buscada= input('Ingrese la clave que desea buscar: ')\n",
    "#clave_buscada in diccionario_1\n",
    "\n",
    "print('Esta la clave que deseo buscar?',clave_buscada in diccionario_1)"
   ]
  },
  {
   "cell_type": "markdown",
   "metadata": {},
   "source": [
    "8. Obtener una lista de todas las claves de un diccionario\n",
    "- Descripción: Usando el diccionario creado en el ejercicio 2, obtén una lista con todas las claves que contiene."
   ]
  },
  {
   "cell_type": "code",
   "execution_count": 16,
   "metadata": {},
   "outputs": [
    {
     "name": "stdout",
     "output_type": "stream",
     "text": [
      "{'pais': 'España', 'nombre': 'Rocio', 'ciudad': 'Leon', 'hermana': 'Jacinta'}\n",
      "las claves del diccionario son:  dict_keys(['pais', 'nombre', 'ciudad', 'hermana'])\n"
     ]
    }
   ],
   "source": [
    "print(diccionario_1)\n",
    "\n",
    "print('las claves del diccionario son: ',diccionario_1.keys())\n"
   ]
  },
  {
   "cell_type": "markdown",
   "metadata": {},
   "source": [
    "9. Obtener una lista de todos los valores de un diccionario\n",
    "- Descripción: Usando el diccionario creado en el ejercicio 2, obtén una lista con todos los valores que contiene."
   ]
  },
  {
   "cell_type": "code",
   "execution_count": 17,
   "metadata": {},
   "outputs": [
    {
     "name": "stdout",
     "output_type": "stream",
     "text": [
      "{'pais': 'España', 'nombre': 'Rocio', 'ciudad': 'Leon', 'hermana': 'Jacinta'}\n",
      "los valores del diccionario son:  dict_values(['España', 'Rocio', 'Leon', 'Jacinta'])\n"
     ]
    }
   ],
   "source": [
    "print(diccionario_1)\n",
    "print('los valores del diccionario son: ', diccionario_1.values())"
   ]
  },
  {
   "cell_type": "markdown",
   "metadata": {},
   "source": [
    "10. Utilizar el método setdefault() para establecer un valor predeterminado si la clave no existe\n",
    "- Descripción: Usando el diccionario creado en el ejercicio 2, obten el valor correspondiente a una clave. Si la clave no existe, establece un valor predeterminado y devuelve dicho valor."
   ]
  },
  {
   "cell_type": "code",
   "execution_count": 20,
   "metadata": {},
   "outputs": [
    {
     "name": "stdout",
     "output_type": "stream",
     "text": [
      "Los valores de la clave buscada es:  45\n",
      "{'pais': 'España', 'nombre': 'Rocio', 'ciudad': 'Leon', 'hermana': 'Jacinta', 'edad': 45}\n"
     ]
    }
   ],
   "source": [
    "\n",
    "print('Los valores de la clave buscada es: ', diccionario_1.setdefault('edad', 45))\n",
    "print(diccionario_1)"
   ]
  },
  {
   "cell_type": "markdown",
   "metadata": {},
   "source": [
    "11. Manipulación de un diccionario utilizando pop() y popitem()\n",
    "- Descripción: Usando el diccionario creado en el ejercicio 2, realiza operaciones de eliminación utilizando pop() y popitem(), y observa cómo afectan al diccionario."
   ]
  },
  {
   "cell_type": "code",
   "execution_count": 22,
   "metadata": {},
   "outputs": [
    {
     "name": "stdout",
     "output_type": "stream",
     "text": [
      "Diccionario entero\n",
      "{'pais': 'España', 'nombre': 'Rocio', 'ciudad': 'Leon'}\n",
      "Eliminamos con metodo pop()\n",
      "{'nombre': 'Rocio', 'ciudad': 'Leon'}\n",
      "\n",
      "Eliminamos con metodo popitem()\n",
      "{'nombre': 'Rocio'}\n"
     ]
    }
   ],
   "source": [
    "print('Diccionario entero')\n",
    "print(diccionario_1)\n",
    "print('Eliminamos con metodo pop()')\n",
    "diccionario_1.pop('pais')\n",
    "print(diccionario_1)\n",
    "print(\"\")\n",
    "print('Eliminamos con metodo popitem()')\n",
    "diccionario_1.popitem()\n",
    "print(diccionario_1)"
   ]
  },
  {
   "cell_type": "markdown",
   "metadata": {},
   "source": [
    "## Ejercicios sets\n",
    "1. Crear un conjunto vacío\n",
    "- Descripción: Crea un conjunto vacío sin ningún elemento."
   ]
  },
  {
   "cell_type": "code",
   "execution_count": 27,
   "metadata": {},
   "outputs": [],
   "source": [
    "set1={}\n"
   ]
  },
  {
   "cell_type": "markdown",
   "metadata": {},
   "source": [
    "2. Crear un conjunto con elementos\n",
    "- Descripción: Crea un conjunto con elementos predefinidos."
   ]
  },
  {
   "cell_type": "code",
   "execution_count": 28,
   "metadata": {},
   "outputs": [],
   "source": [
    "set2= {'platano', 'melocoton', 'sandia', 'manzana', 'pera'}\n"
   ]
  },
  {
   "cell_type": "markdown",
   "metadata": {},
   "source": [
    "3. Agregar elementos a un conjunto\n",
    "- Descripción: Usando el set creado en el ejercicio 2, agrega nuevos elementos."
   ]
  },
  {
   "cell_type": "code",
   "execution_count": 29,
   "metadata": {},
   "outputs": [
    {
     "name": "stdout",
     "output_type": "stream",
     "text": [
      "Set original {'sandia', 'melocoton', 'platano', 'pera', 'manzana'}\n",
      "{'sandia', 'melocoton', 'platano', 'pera', 'melon', 'manzana'}\n"
     ]
    }
   ],
   "source": [
    "print('Set original', set2)\n",
    "set2.add('melon')\n",
    "print(set2)"
   ]
  },
  {
   "cell_type": "markdown",
   "metadata": {},
   "source": [
    "4. Debereis agregar por separado:\n",
    "- Un elemento solo\n",
    "- Un par de elementos a la vez."
   ]
  },
  {
   "cell_type": "code",
   "execution_count": 34,
   "metadata": {},
   "outputs": [
    {
     "name": "stdout",
     "output_type": "stream",
     "text": [
      "{'Portugal', 'Argentina', 'Francia', 'España'}\n",
      "{'Portugal', 'Brasil', 'España', 'Argentina', 'Francia'}\n",
      "{'Portugal', 'Brasil', 'España', 'Argentina', 'Francia', 'Costa Rica', 'Belgica'}\n"
     ]
    }
   ],
   "source": [
    "set3= {'España', 'Argentina', 'Portugal', 'Francia'}\n",
    "print(set3)\n",
    "\n",
    "set3.add('Brasil')\n",
    "print(set3)\n",
    "\n",
    "nuevos_paises= ['Belgica', 'Costa Rica']\n",
    "set3.update(nuevos_paises)\n",
    "print(set3)"
   ]
  },
  {
   "cell_type": "markdown",
   "metadata": {},
   "source": [
    "5. Eliminar un elemento de un conjunto\n",
    "- Descripción: Usando el set creado en el ejercicio 2, elimina un elemento especificado por el usuario."
   ]
  },
  {
   "cell_type": "code",
   "execution_count": 36,
   "metadata": {},
   "outputs": [
    {
     "name": "stdout",
     "output_type": "stream",
     "text": [
      "{'Portugal', 'Brasil', 'España', 'Argentina', 'Francia', 'Costa Rica', 'Belgica'}\n",
      "{'Portugal', 'Brasil', 'España', 'Argentina', 'Francia', 'Belgica'}\n"
     ]
    }
   ],
   "source": [
    "print(set3)\n",
    "\n",
    "set3.remove('Costa Rica')\n",
    "print(set3)\n"
   ]
  },
  {
   "cell_type": "markdown",
   "metadata": {},
   "source": [
    "6. Verificar la pertenencia de un elemento en un conjunto\n",
    "- Descripción: Usando el set creado en el ejercicio 2, verifica si un elemento específico está presente en él."
   ]
  },
  {
   "cell_type": "code",
   "execution_count": 37,
   "metadata": {},
   "outputs": [
    {
     "name": "stdout",
     "output_type": "stream",
     "text": [
      "{'Portugal', 'Brasil', 'España', 'Argentina', 'Francia', 'Belgica'}\n",
      "El elemento buscado esta en el set?:  True\n"
     ]
    }
   ],
   "source": [
    "print(set3)\n",
    "print('El elemento buscado esta en el set?: ', 'España' in set3)"
   ]
  },
  {
   "cell_type": "markdown",
   "metadata": {},
   "source": [
    "7. Realizar una unión de conjuntos\n",
    "- Descripción: Dados dos conjuntos, realiza una unión de ellos."
   ]
  },
  {
   "cell_type": "code",
   "execution_count": 41,
   "metadata": {},
   "outputs": [
    {
     "name": "stdout",
     "output_type": "stream",
     "text": [
      "{'USA', 'Argentina', 'Mexico', 'España'}\n",
      "{'Portugal', 'Brasil', 'España', 'Argentina', 'Francia', 'Belgica'}\n",
      "{'Portugal', 'USA', 'Mexico', 'Brasil', 'España', 'Argentina', 'Francia', 'Belgica'}\n"
     ]
    }
   ],
   "source": [
    "set4= {'Argentina', 'España', 'USA', 'Mexico'}\n",
    "print(set4)\n",
    "print(set3)\n",
    "\n",
    "print(set3.union(set4))\n"
   ]
  },
  {
   "cell_type": "markdown",
   "metadata": {},
   "source": [
    "8. Realizar una intersección de conjuntos\n",
    "- Descripción: Usando dos conjuntos de datos definidos en el ejercicio anterior, realiza una intersección de ellos."
   ]
  },
  {
   "cell_type": "code",
   "execution_count": 42,
   "metadata": {},
   "outputs": [
    {
     "name": "stdout",
     "output_type": "stream",
     "text": [
      "{'Portugal', 'Brasil', 'España', 'Argentina', 'Francia', 'Belgica'}\n",
      "{'USA', 'Argentina', 'Mexico', 'España'}\n",
      "Interseccion\n",
      "{'Argentina', 'España'}\n",
      "Interseccion al reves\n",
      "{'Argentina', 'España'}\n"
     ]
    }
   ],
   "source": [
    "print(set3)\n",
    "print(set4)\n",
    "print('Interseccion')\n",
    "print(set4.intersection(set3))\n",
    "print('Interseccion al reves')\n",
    "print(set3.intersection(set4))"
   ]
  },
  {
   "cell_type": "markdown",
   "metadata": {},
   "source": [
    "9. Realizar una diferencia de conjuntos\n",
    "- Descripción: Usando dos conjuntos de datos definidos en el ejercicio anterior, realiza una diferencia entre ellos."
   ]
  },
  {
   "cell_type": "code",
   "execution_count": 44,
   "metadata": {},
   "outputs": [
    {
     "name": "stdout",
     "output_type": "stream",
     "text": [
      "{'Portugal', 'Brasil', 'España', 'Argentina', 'Francia', 'Belgica'}\n",
      "{'USA', 'Argentina', 'Mexico', 'España'}\n",
      "Diferencia entre set 3 y set 4 {'Portugal', 'Belgica', 'Francia', 'Brasil'}\n",
      "Diferencia entre set 4 y set 3 {'USA', 'Mexico'}\n"
     ]
    }
   ],
   "source": [
    "print(set3)\n",
    "print(set4)\n",
    "print('Diferencia entre set 3 y set 4', set3.difference(set4))\n",
    "print('Diferencia entre set 4 y set 3', set4.difference(set3))\n"
   ]
  },
  {
   "cell_type": "markdown",
   "metadata": {},
   "source": [
    "10. Verificar si un conjunto es subconjunto de otro\n",
    "- Descripción: Dados dos conjuntos, verifica si uno es subconjunto del otro."
   ]
  },
  {
   "cell_type": "code",
   "execution_count": 45,
   "metadata": {},
   "outputs": [
    {
     "name": "stdout",
     "output_type": "stream",
     "text": [
      "{'Portugal', 'Brasil', 'España', 'Argentina', 'Francia', 'Belgica'}\n",
      "{'USA', 'Argentina', 'Mexico', 'España'}\n",
      "Es subset set3 de set4:  False\n",
      "Es subset set4 de set3:  False\n"
     ]
    }
   ],
   "source": [
    "print(set3)\n",
    "print(set4)\n",
    "\n",
    "print('Es subset set3 de set4?: ', set3.issubset(set4))\n",
    "print('Es subset set4 de set3?: ', set4.issubset(set3))"
   ]
  }
 ],
 "metadata": {
  "kernelspec": {
   "display_name": "base",
   "language": "python",
   "name": "python3"
  },
  "language_info": {
   "codemirror_mode": {
    "name": "ipython",
    "version": 3
   },
   "file_extension": ".py",
   "mimetype": "text/x-python",
   "name": "python",
   "nbconvert_exporter": "python",
   "pygments_lexer": "ipython3",
   "version": "3.9.7"
  },
  "orig_nbformat": 4
 },
 "nbformat": 4,
 "nbformat_minor": 2
}
