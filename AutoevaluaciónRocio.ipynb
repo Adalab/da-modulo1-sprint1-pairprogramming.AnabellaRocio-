{
 "cells": [
  {
   "cell_type": "markdown",
   "metadata": {},
   "source": [
    "PARTE 1 STRINGS"
   ]
  },
  {
   "cell_type": "markdown",
   "metadata": {},
   "source": [
    "1. Dada una cadena de texto, contar cuántas veces aparece una letra específica en ella. Usa un input para que el usuario elija la letra a buscar.\n",
    "\n",
    "cadena = \"Python es un lenguaje de programación muy popular\""
   ]
  },
  {
   "cell_type": "markdown",
   "metadata": {},
   "source": [
    "# print me está dando error cuando lo hago varias veces en el mismo código, por eso veréis ejercicios en más de un código. lo soluciono cerrando y abriendo VS."
   ]
  },
  {
   "cell_type": "code",
   "execution_count": 1,
   "metadata": {},
   "outputs": [
    {
     "name": "stdout",
     "output_type": "stream",
     "text": [
      "la letra y aparece 2 veces\n"
     ]
    }
   ],
   "source": [
    "cadena = \"Python es un lenguaje de programación muy popular\"\n",
    "listacadena = list (cadena)\n",
    "buscarcadena = input(\"dime una letra\")\n",
    "letraencadena = listacadena.count(buscarcadena)\n",
    "print (\"la letra\", buscarcadena, \"aparece\", letraencadena, \"veces\")\n"
   ]
  },
  {
   "cell_type": "markdown",
   "metadata": {},
   "source": [
    "2. Escribe un programa que tome la siguiente cadena de texto y reemplace una palabra específica por otra palabra. La palabra a reemplazar y reemplazada deben ser elegidas por el usuario.\n",
    "\n",
    "cadena = \"Python es genial. Python es fácil de aprender.\""
   ]
  },
  {
   "cell_type": "code",
   "execution_count": 2,
   "metadata": {},
   "outputs": [
    {
     "name": "stdout",
     "output_type": "stream",
     "text": [
      "Pepe es genial. Pepe es fácil de aprender.\n"
     ]
    }
   ],
   "source": [
    "cadena2 = \"Python es genial. Python es fácil de aprender.\"\n",
    "reemplazarcadena2 = input (\"Dime qué palabra quieres reemplazar\")\n",
    "reemplazarxcadena2 = input (\"Dime por qué palabra la quieres reemplazar\")\n",
    "cadena3 = cadena2.replace(reemplazarcadena2,reemplazarxcadena2)\n",
    "print(cadena3)"
   ]
  },
  {
   "cell_type": "markdown",
   "metadata": {},
   "source": [
    "3. Toma la siguiente oración y divídela en una lista de palabras. Luego, únelas nuevamente en una sola cadena de texto.\n",
    "\n",
    "oracion = \"Esto es una oración de ejemplo\""
   ]
  },
  {
   "cell_type": "code",
   "execution_count": 3,
   "metadata": {},
   "outputs": [
    {
     "data": {
      "text/plain": [
       "str"
      ]
     },
     "execution_count": 3,
     "metadata": {},
     "output_type": "execute_result"
    }
   ],
   "source": [
    "oracion = \"Esto es una oración de ejemplo\"\n",
    "type(oracion)\n"
   ]
  },
  {
   "cell_type": "code",
   "execution_count": 4,
   "metadata": {},
   "outputs": [
    {
     "data": {
      "text/plain": [
       "['Esto', 'es', 'una', 'oración', 'de', 'ejemplo']"
      ]
     },
     "execution_count": 4,
     "metadata": {},
     "output_type": "execute_result"
    }
   ],
   "source": [
    "palabrasoracion = oracion.split()\n",
    "palabrasoracion"
   ]
  },
  {
   "cell_type": "code",
   "execution_count": 5,
   "metadata": {},
   "outputs": [
    {
     "data": {
      "text/plain": [
       "'Esto es una oración de ejemplo'"
      ]
     },
     "execution_count": 5,
     "metadata": {},
     "output_type": "execute_result"
    }
   ],
   "source": [
    "' '.join(palabrasoracion)"
   ]
  },
  {
   "cell_type": "markdown",
   "metadata": {},
   "source": [
    "4. Desarrolla un programa que cuente cuántas palabras hay en la siguiente frase.\n",
    "\n",
    "cadena = \"Esta es una cadena con cinco palabras\""
   ]
  },
  {
   "cell_type": "code",
   "execution_count": 6,
   "metadata": {},
   "outputs": [
    {
     "name": "stdout",
     "output_type": "stream",
     "text": [
      "Tu frase tiene 7 palabras\n"
     ]
    }
   ],
   "source": [
    "cadena3 = \"Esta es una cadena con cinco palabras\"\n",
    "listacadena3 = [cadena3]\n",
    "palabrascadena3 = cadena3.split()\n",
    "print(\"Tu frase tiene\",len(palabrascadena3), \"palabras\")\n"
   ]
  },
  {
   "cell_type": "markdown",
   "metadata": {},
   "source": [
    "5. Escribe un programa que invierta una cadena de texto dada por un usuario.\n",
    "Mira el siguiente ejemplo para entender lo que se pide:\n",
    " # input \n",
    " \"Hola buenos dias\"\n",
    "\n",
    " # output\n",
    " \"dias buenos Hola"
   ]
  },
  {
   "cell_type": "code",
   "execution_count": 19,
   "metadata": {},
   "outputs": [
    {
     "name": "stdout",
     "output_type": "stream",
     "text": [
      "Tu frase al revés es: Pythonear para es semana de fin El\n"
     ]
    }
   ],
   "source": [
    "#reverse() me da error desde siempre... pero he ido sorteando con [::]\n",
    "cadena4 = input(\"Escribe una frase\")\n",
    "listacadena4 = [cadena4]\n",
    "palabrascadena4 = cadena4.split()\n",
    "bwpalabrascadena4 = palabrascadena4[::-1]\n",
    "print ('Tu frase al revés es:', ' '.join(bwpalabrascadena4))"
   ]
  },
  {
   "cell_type": "markdown",
   "metadata": {},
   "source": [
    "6. Crea un programa que busque una palabra específica(elegida por la usuaria) en una cadena de texto e indique su posición."
   ]
  },
  {
   "cell_type": "code",
   "execution_count": null,
   "metadata": {},
   "outputs": [],
   "source": []
  }
 ],
 "metadata": {
  "kernelspec": {
   "display_name": "base",
   "language": "python",
   "name": "python3"
  },
  "language_info": {
   "codemirror_mode": {
    "name": "ipython",
    "version": 3
   },
   "file_extension": ".py",
   "mimetype": "text/x-python",
   "name": "python",
   "nbconvert_exporter": "python",
   "pygments_lexer": "ipython3",
   "version": "3.9.7"
  }
 },
 "nbformat": 4,
 "nbformat_minor": 2
}
