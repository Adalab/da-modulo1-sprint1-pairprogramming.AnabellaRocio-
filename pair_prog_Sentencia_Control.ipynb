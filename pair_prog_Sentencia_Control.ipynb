{
 "cells": [
  {
   "cell_type": "markdown",
   "metadata": {},
   "source": [
    "Ejercicios if-else"
   ]
  },
  {
   "cell_type": "markdown",
   "metadata": {},
   "source": [
    "probando"
   ]
  },
  {
   "cell_type": "markdown",
   "metadata": {},
   "source": [
    "1. Verificar si un número es positivo, negativo o cero.\n",
    "\n",
    "Descripción: Dado un número, verifica si es positivo, negativo o cero."
   ]
  },
  {
   "cell_type": "code",
   "execution_count": 4,
   "metadata": {},
   "outputs": [
    {
     "name": "stdout",
     "output_type": "stream",
     "text": [
      "el número -6 es negativo\n"
     ]
    }
   ],
   "source": [
    "numero = int(input(\"dime un número\"))\n",
    "if numero == 0:\n",
    "    print(f\"el número {numero} es igual a 0\")\n",
    "elif numero > 0:\n",
    "    print(f'el número {numero} es positivo')\n",
    "elif numero < 0:\n",
    "    print(f'el número {numero} es negativo')\n",
    "else:\n",
    "    print(\"dato incorrecto\")    "
   ]
  },
  {
   "cell_type": "markdown",
   "metadata": {},
   "source": [
    "2. Verificar si un número es par o impar\n",
    "\n",
    "Descripción: Dado un número, verifica si es par o impar."
   ]
  },
  {
   "cell_type": "code",
   "execution_count": 7,
   "metadata": {},
   "outputs": [
    {
     "name": "stdout",
     "output_type": "stream",
     "text": [
      "el número -5 es impar\n"
     ]
    }
   ],
   "source": [
    "numero_2 = int(input(\"dime un número\"))\n",
    "if numero_2 % 2 == 0:\n",
    "    print(f\"el número {numero_2} es par\")\n",
    "else:\n",
    "    print(f'el número {numero_2} es impar')"
   ]
  },
  {
   "cell_type": "markdown",
   "metadata": {},
   "source": [
    "3. Verificar si un estudiante aprobó o suspendió un examen\n",
    "\n",
    "Descripción: Dada la calificación de un estudiante en un examen, verifica si aprobó o suspendió (si la calificación es mayor o igual a 60 se considera aprobado)."
   ]
  },
  {
   "cell_type": "code",
   "execution_count": 9,
   "metadata": {},
   "outputs": [
    {
     "name": "stdout",
     "output_type": "stream",
     "text": [
      "tu calificación es 65 y estás aprobado. ENHORABUENA\n"
     ]
    }
   ],
   "source": [
    "calificacion = int (input(\"dime tu calificación\"))\n",
    "if calificacion >= 60:\n",
    "    print(f'tu calificación es {calificacion} y estás aprobado. ENHORABUENA')\n",
    "else:\n",
    "    print(f'tu calificación es {calificacion} y estás suspenso. SIGUE INTENTÁNDOLO!')"
   ]
  },
  {
   "cell_type": "markdown",
   "metadata": {},
   "source": [
    "4. Calcular el máximo entre dos números\n",
    "\n",
    "Descripción: Dados dos números, encuentra el máximo entre ellos."
   ]
  },
  {
   "cell_type": "code",
   "execution_count": 17,
   "metadata": {},
   "outputs": [
    {
     "name": "stdout",
     "output_type": "stream",
     "text": [
      "el máximo es 80\n"
     ]
    }
   ],
   "source": [
    "numero_1 = 60\n",
    "numero_2 = int(input('dime un número'))\n",
    "if numero_1 > numero_2:\n",
    "    print('el máximo es el ',numero_1)\n",
    "elif numero_2 > numero_1:\n",
    "    print('el máximo es', numero_2)\n",
    "else:\n",
    "    print('los número son iguales a', numero_1)"
   ]
  },
  {
   "cell_type": "markdown",
   "metadata": {},
   "source": [
    "5. Verificar si una letra es una vocal o una consonante\n",
    "\n",
    "Descripción: Dada una letra, verifica si es una vocal o una consonante."
   ]
  },
  {
   "cell_type": "code",
   "execution_count": 22,
   "metadata": {},
   "outputs": [
    {
     "name": "stdout",
     "output_type": "stream",
     "text": [
      "tu letra a es una vocal\n"
     ]
    }
   ],
   "source": [
    "vocal = (\"a\", \"e\", \"i\", \"o\", \"u\")\n",
    "letra = input('dime una letra')\n",
    "if letra in vocal:\n",
    "    print(f'tu letra {letra} es una vocal')\n",
    "else:\n",
    "    print(f'tu letra {letra} es una consonante')"
   ]
  },
  {
   "cell_type": "markdown",
   "metadata": {},
   "source": [
    "6. Calcular el descuento en una compra según el monto total\n",
    "\n",
    "Descripción: Dado el monto total de una compra, calcula el descuento aplicado según las siguientes condiciones: si el monto es mayor o igual a $100, aplica un descuento del 10%; de lo contrario, no aplica ningún descuento."
   ]
  },
  {
   "cell_type": "code",
   "execution_count": 24,
   "metadata": {},
   "outputs": [
    {
     "name": "stdout",
     "output_type": "stream",
     "text": [
      "Tienes un descuento del 10% y tu monto final es 90.0\n"
     ]
    }
   ],
   "source": [
    "monto = float(input('dime el monto de tu compra en $'))\n",
    "monto_descuento = monto*0.9\n",
    "if monto >= 100:\n",
    "    print(f'Tienes un descuento del 10% y tu monto final es {monto_descuento}')\n",
    "else:\n",
    "    print (f'el monto total de tu compra es {monto}')"
   ]
  },
  {
   "cell_type": "markdown",
   "metadata": {},
   "source": [
    "7. Verificar si un año es bisiesto o no\n",
    "\n",
    "Descripción: Dado un año, verifica si es bisiesto o no (un año es bisiesto si es divisible entre 4, excepto aquellos divisibles entre 100 pero no entre 400)."
   ]
  },
  {
   "cell_type": "code",
   "execution_count": 29,
   "metadata": {},
   "outputs": [
    {
     "name": "stdout",
     "output_type": "stream",
     "text": [
      "el año 1600 es bisiesto\n"
     ]
    }
   ],
   "source": [
    "#div entre 4 y entre 400 ES BISIESTO\n",
    "    #excepción divisible entre 100\n",
    "        \n",
    "año = int(input('ingrese el año'))\n",
    "if año % 400 == 0:\n",
    "    print(f'el año {año} es bisiesto')\n",
    "elif año % 100 == 0:\n",
    "    print(f'el año {año} NO es bisiesto')\n",
    "elif año % 4 == 0:\n",
    "    print (f'el año {año} es bisiesto')\n",
    "else:\n",
    "    print (f'el año {año} NO es bisiesto')"
   ]
  },
  {
   "cell_type": "markdown",
   "metadata": {},
   "source": [
    "8. Asignar una categoría a una edad\n",
    "\n",
    "Descripción: Dada una edad, asigna una categoría según las siguientes condiciones: si la edad es menor de 18, la categoría es \"Menor de edad\"; si la edad está entre 18 y 64 (incluyendo ambos), la categoría es \"Adulto\"; de lo contrario, la categoría es \"Adulto mayor\"."
   ]
  },
  {
   "cell_type": "code",
   "execution_count": 1,
   "metadata": {},
   "outputs": [
    {
     "name": "stdout",
     "output_type": "stream",
     "text": [
      "Eres adulto porque tienes 25 años\n"
     ]
    }
   ],
   "source": [
    "edad = int(input('dime tu edad'))\n",
    "if edad < 18:\n",
    "    print(f'Eres menor de edad porque tienes {edad} años')\n",
    "elif edad >= 18 and edad <= 64:\n",
    "    print(f'Eres adulto porque tienes {edad} años')\n",
    "else:\n",
    "    print(f'Eres adulto mayor porque tienes {edad} años')"
   ]
  },
  {
   "cell_type": "markdown",
   "metadata": {},
   "source": [
    "9. Verificar si tres números forman un triángulo rectángulo\n",
    "\n",
    "Descripción: Dados tres números, verifica si forman un triángulo rectángulo (si se cumple el teorema de Pitágoras)."
   ]
  },
  {
   "attachments": {
    "image.png": {
     "image/png": "[encoded data removed]"
    }
   },
   "cell_type": "markdown",
   "metadata": {},
   "source": [
    "![image.png](attachment:image.png)"
   ]
  },
  {
   "cell_type": "code",
   "execution_count": 44,
   "metadata": {},
   "outputs": [
    {
     "name": "stdout",
     "output_type": "stream",
     "text": [
      "el triángulo no es rectángulo\n"
     ]
    }
   ],
   "source": [
    "#a = (b**2 + c**2)**0.5\n",
    "lado_b_cm = 30\n",
    "lado_c_cm = 30\n",
    "lado_a_cm = 70\n",
    "if lado_a_cm == round((lado_b_cm**2 +lado_c_cm**2)**0.5,0):\n",
    "    print ('el triángulo es rectángulo')\n",
    "else:\n",
    "    print ('el triángulo no es rectángulo')\n",
    "    "
   ]
  },
  {
   "cell_type": "markdown",
   "metadata": {},
   "source": [
    "10. Asignar una calificación a una puntuación\n",
    "\n",
    "Descripción: Dada una puntuación, asigna una calificación según las siguientes condiciones: si la puntuación es mayor o igual a 90, la calificación es \"A\"; si es mayor o igual a 80, la calificación es \"B\"; si es mayor o igual a 70, la calificación es \"C\"; si es mayor o igual a 60, la calificación es \"D\"; de lo contrario, la calificación es \"F\"."
   ]
  },
  {
   "cell_type": "code",
   "execution_count": 4,
   "metadata": {},
   "outputs": [
    {
     "name": "stdout",
     "output_type": "stream",
     "text": [
      "tu calificación es A\n"
     ]
    }
   ],
   "source": [
    "puntuacion = int(input('dime tu puntuación'))\n",
    "if puntuacion >= 90:\n",
    "    print ('tu calificación es A')\n",
    "elif puntuacion >= 80:\n",
    "    print(\"Tu calificación es B\")\n",
    "elif puntuacion >= 70:\n",
    "    print('Tucalificación es C')\n",
    "elif puntuacion >= 60:\n",
    "    print('Tu calificación es D')\n",
    "\n",
    "else:\n",
    "    print('Tu calificación es F')    "
   ]
  },
  {
   "cell_type": "markdown",
   "metadata": {},
   "source": [
    "11. Calcular el índice de masa corporal (IMC) y categorizarlo\n",
    "\n",
    "Descripción: Dados el peso (en kg) y la altura (en metros) de una persona, calcula su IMC y categorízalo según las siguientes condiciones: si el IMC es menor a 18.5, es \"Bajo peso\"; si está entre 18.5 y 24.9 (inclusive), es \"Peso normal\"; si está entre 25 y 29.9 (inclusive), es \"Sobrepeso\"; de lo contrario, es \"Obesidad\"."
   ]
  },
  {
   "cell_type": "code",
   "execution_count": 7,
   "metadata": {},
   "outputs": [
    {
     "name": "stdout",
     "output_type": "stream",
     "text": [
      "Su IMC es normal\n"
     ]
    }
   ],
   "source": [
    "peso= float(input('Ingrese su peso en kilos: '))\n",
    "altura= float(input('Ingrese su altura en metros'))\n",
    "\n",
    "imc = (peso/(altura**2)) \n",
    "if imc < 18.5:\n",
    "    print('Su IMC es bajo peso')\n",
    "elif imc >= 18.5 and imc <= 24.9:\n",
    "    print('Su IMC es normal')\n",
    "elif imc >= 25 and imc <= 29.9:\n",
    "    print('Su IMC indica que tiene sobrepeso')\n",
    "else:\n",
    "    print('Su IMC que tiene obesidad')\n",
    "    "
   ]
  },
  {
   "cell_type": "markdown",
   "metadata": {},
   "source": [
    "12. Calcular el mayor de tres números\n",
    "\n",
    "Descripción: Dados tres números, encuentra el mayor entre ellos."
   ]
  },
  {
   "cell_type": "code",
   "execution_count": 10,
   "metadata": {},
   "outputs": [
    {
     "name": "stdout",
     "output_type": "stream",
     "text": [
      "25 es el mayor de los tres números\n"
     ]
    }
   ],
   "source": [
    "cifra= 25\n",
    "cifra_2= -5\n",
    "cifra_3=4\n",
    "\n",
    "if cifra > cifra_2 and cifra >cifra_3:\n",
    "    print(cifra, 'es el mayor de los tres números')\n",
    "\n",
    "elif cifra_2 > cifra and cifra_2 >cifra_3:\n",
    "    print(cifra_2, 'es el mayor de los tres números')\n",
    "else:\n",
    "    print(cifra_3, 'es el mayor de todos los números')"
   ]
  },
  {
   "cell_type": "markdown",
   "metadata": {},
   "source": [
    "13. BONUS sentencias de control: Verificar la validez de una fecha\n",
    "Descripción: Dados el día, el mes y el año de una fecha, verifica si la fecha es válida."
   ]
  },
  {
   "cell_type": "code",
   "execution_count": null,
   "metadata": {},
   "outputs": [],
   "source": []
  },
  {
   "cell_type": "markdown",
   "metadata": {},
   "source": [
    "Ejercicios while"
   ]
  },
  {
   "cell_type": "markdown",
   "metadata": {},
   "source": [
    "1. Calcular la suma de los primeros 10 números naturales utilizando un bucle while\n",
    "\n",
    "Descripción: Utiliza un bucle while para calcular la suma de los primeros 10 números naturales (1 + 2 + 3 + ... + 10)."
   ]
  },
  {
   "cell_type": "code",
   "execution_count": 1,
   "metadata": {},
   "outputs": [
    {
     "name": "stdout",
     "output_type": "stream",
     "text": [
      "55\n"
     ]
    }
   ],
   "source": [
    "suma = 0\n",
    "num = 1\n",
    "while num <= 10:\n",
    "    suma += num\n",
    "    num +=1\n",
    "print(suma)\n",
    "\n"
   ]
  },
  {
   "cell_type": "markdown",
   "metadata": {},
   "source": [
    "2. Juego de adivinanza utilizando un bucle while\n",
    "\n",
    "Descripción: Crea un juego de adivinanza en el que el jugador tiene que adivinar un número secreto (tendrá que ser entre el 0 y el 10). Utiliza un bucle while para permitir múltiples intentos hasta que el jugador adivine correctamente."
   ]
  },
  {
   "cell_type": "code",
   "execution_count": 49,
   "metadata": {},
   "outputs": [
    {
     "name": "stdout",
     "output_type": "stream",
     "text": [
      "Felicidades, has adivinado el número secreto, que es 5.\n"
     ]
    }
   ],
   "source": [
    "jugador= int(input('Ingrese un número del 0 al 10: '))\n",
    "numero_secreto= 5\n",
    "\n",
    "while jugador != numero_secreto:\n",
    "    jugador= int(input('Número incorrecto. Ingrese otro número: '))\n",
    "    if jugador == numero_secreto:\n",
    "      print(f\"Felicidades, has adivinado el número secreto, que es {numero_secreto}.\")\n",
    "\n"
   ]
  }
 ],
 "metadata": {
  "kernelspec": {
   "display_name": "Python 3",
   "language": "python",
   "name": "python3"
  },
  "language_info": {
   "codemirror_mode": {
    "name": "ipython",
    "version": 3
   },
   "file_extension": ".py",
   "mimetype": "text/x-python",
   "name": "python",
   "nbconvert_exporter": "python",
   "pygments_lexer": "ipython3",
   "version": "3.9.7"
  }
 },
 "nbformat": 4,
 "nbformat_minor": 2
}
